{
 "cells": [
  {
   "cell_type": "markdown",
   "metadata": {},
   "source": [
    "# Ejercicios Modulo 4. Unidad 1. Otras herramientas de POO (Soluciones)\n",
    "\n",
    "Consideraciones a tener en cuenta: \n",
    "\n",
    "* Guardar este documento con el siguiente formato para su entrega: __M4_01_nombre_apellido1_apellido2__\n",
    "* Realizar los ejercicios con las herramientas vistas en las sesiones. \n",
    "* Comentar el código\n",
    "* Utilizar nombres de variables apropiados, si vais a guardar una nota, llamar a esa variable nota, no n o x"
   ]
  },
  {
   "cell_type": "markdown",
   "metadata": {},
   "source": [
    "**1) Ejercicio de herencia múltiple y polimorfismo:**\n",
    "* Crea la clase Vehiculos con un constructor que incluya marca y modelo\n",
    "* Esta clase Vehiculos también tendrá que incluir un método que se llame repostar() el cual imprima por pantalla \"Este vehiculo tiene que repostar gasolina\"\n",
    "* Crea la clase VElectricos con un constructor que incluya marca, modelo y autonomia\n",
    "* Esta clase VElectricos también tendrá que incluir un método que se llame repostar() el cual imprima por pantalla \"Este vehiculo tiene que repostar electricidad\"\n",
    "* Crea la clase BicicletaElectrica que herede de Vehiculos y de VElectricos, pero dando prioridad a VElectricos (ya que es un vehículo más electrico que normal)\n",
    "* Crea la clase Quad que herede de Vehiculos y de VElectricos, pero dando prioridad a Vehiculos (ya que sólo usa la electricidad de modo puntual)\n",
    "* Crear un objeto de BicicletaElectrica y otro de Quad\n",
    "* Emplear las técnicas de polimorfismo aprendidas para conseguir que al peguntarle a los objetos que acabamos de crear por su repostaje, ambos nos respondan adecuadamente\n",
    "\n"
   ]
  },
  {
   "cell_type": "code",
   "execution_count": null,
   "metadata": {},
   "outputs": [],
   "source": [
    "# Completa el ejercicio aquí"
   ]
  },
  {
   "cell_type": "markdown",
   "metadata": {},
   "source": [
    "**2) Ejercicio de herencia**\n",
    "* Crea la superclase Personal_Universitario con un único atributo que sea un diccionario que incluya: \"id\", \"nombre\" y \"email\"\n",
    "* Crear la clases Oficina, Profesor y Alumno. Todas ellas heredaran de Personal_Universitario y heredaran sus datos\n",
    "* En el caso de Oficina, debe añadir a su diccionario de datos el dato \"Puesto\"\n",
    "* En el caso de Profesor, debe añadir a su diccionario de datos el dato \"Especialización\"\n",
    "* En el caso de Alumno, debe añadir a su diccionario de datos el dato \"CreditosAprobados\" (integer)\n",
    "* Crear métodos que sirvan para mostrar la información de cada clase\n",
    "* Crear objetos de todas las clases\n",
    "* Mostrar la información de esos objetos y comprobar que sale lo que tiene que salir"
   ]
  },
  {
   "cell_type": "code",
   "execution_count": null,
   "metadata": {},
   "outputs": [],
   "source": [
    "# Completa el ejercicio aquí"
   ]
  },
  {
   "cell_type": "markdown",
   "metadata": {},
   "source": [
    "**3) Escoge la temática que prefieras y define una estructura de clases y subclases donde practiques la herencia en al menos dos niveles (herencia multi nivel). Crea una estructura de mínimo 5 clases, con sus respectivos constructores y métodos. Crea algunos objetos y comprueba que la herencia este funcionando. \n",
    "Si puedes, incluye alguna técnica de polimorfismo.**"
   ]
  },
  {
   "cell_type": "code",
   "execution_count": null,
   "metadata": {},
   "outputs": [],
   "source": [
    "# Completa el ejercicio aquí"
   ]
  }
 ],
 "metadata": {
  "anaconda-cloud": {},
  "kernelspec": {
   "display_name": "Python 3",
   "language": "python",
   "name": "python3"
  },
  "language_info": {
   "codemirror_mode": {
    "name": "ipython",
    "version": 3
   },
   "file_extension": ".py",
   "mimetype": "text/x-python",
   "name": "python",
   "nbconvert_exporter": "python",
   "pygments_lexer": "ipython3",
   "version": "3.7.6"
  }
 },
 "nbformat": 4,
 "nbformat_minor": 1
}
